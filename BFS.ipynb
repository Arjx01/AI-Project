{
  "nbformat": 4,
  "nbformat_minor": 0,
  "metadata": {
    "colab": {
      "provenance": [],
      "authorship_tag": "ABX9TyM0mPi7f/ycn6Nx2R6foPQp",
      "include_colab_link": true
    },
    "kernelspec": {
      "name": "python3",
      "display_name": "Python 3"
    },
    "language_info": {
      "name": "python"
    }
  },
  "cells": [
    {
      "cell_type": "markdown",
      "metadata": {
        "id": "view-in-github",
        "colab_type": "text"
      },
      "source": [
        "<a href=\"https://colab.research.google.com/github/Arjx01/AI-Project/blob/main/Untitled2.ipynb\" target=\"_parent\"><img src=\"https://colab.research.google.com/assets/colab-badge.svg\" alt=\"Open In Colab\"/></a>"
      ]
    },
    {
      "cell_type": "code",
      "source": [
        "from collections import deque\n",
        "graph={\n",
        "    'A':['B','C'],\n",
        "    'B':['D','E'],\n",
        "    'C':['F'],\n",
        "    'D':[],\n",
        "    'E':[],\n",
        "    'F':[]\n",
        "}\n",
        "def bfs(graph,start):\n",
        "  visited=set()\n",
        "  queue=deque([start])\n",
        "  print(\"BFS Traversal Order\")\n",
        "  while queue:\n",
        "    node=queue.popleft()\n",
        "    if node not in visited:\n",
        "      print(node,end=\" \")\n",
        "      visited.add(node)\n",
        "      for neighbour in graph[node]:\n",
        "        if neighbour not in visited:\n",
        "          queue.append(neighbour)\n",
        "bfs(graph,'A')"
      ],
      "metadata": {
        "colab": {
          "base_uri": "https://localhost:8080/"
        },
        "id": "rLEsdeP3g98G",
        "outputId": "89f5eef0-f140-4efd-91c1-a62bcff5d56c"
      },
      "execution_count": 7,
      "outputs": [
        {
          "output_type": "stream",
          "name": "stdout",
          "text": [
            "BFS Traversal Order\n",
            "A B C D E F "
          ]
        }
      ]
    }
  ]
}
