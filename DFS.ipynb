{
  "nbformat": 4,
  "nbformat_minor": 0,
  "metadata": {
    "colab": {
      "provenance": [],
      "authorship_tag": "ABX9TyNkqFVMLzblxwpN4GgINWYQ",
      "include_colab_link": true
    },
    "kernelspec": {
      "name": "python3",
      "display_name": "Python 3"
    },
    "language_info": {
      "name": "python"
    }
  },
  "cells": [
    {
      "cell_type": "markdown",
      "metadata": {
        "id": "view-in-github",
        "colab_type": "text"
      },
      "source": [
        "<a href=\"https://colab.research.google.com/github/Arjx01/AI-Project/blob/main/DFS.ipynb\" target=\"_parent\"><img src=\"https://colab.research.google.com/assets/colab-badge.svg\" alt=\"Open In Colab\"/></a>"
      ]
    },
    {
      "cell_type": "code",
      "execution_count": 3,
      "metadata": {
        "colab": {
          "base_uri": "https://localhost:8080/"
        },
        "id": "L39zV_xhirZH",
        "outputId": "2dc166b1-35f3-460c-beda-fa41ecce71ed"
      },
      "outputs": [
        {
          "output_type": "stream",
          "name": "stdout",
          "text": [
            "DFS Traversal Order (Using Stack):\n",
            "A C F B E D "
          ]
        }
      ],
      "source": [
        "graph={\n",
        "    'A':['B','C'],\n",
        "    'B':['D','E'],\n",
        "    'C':['F'],\n",
        "    'D':[],\n",
        "    'E':[],\n",
        "    'F':[]\n",
        "}\n",
        "def dfs_using_stack(graph,start_node):\n",
        "  stack=[start_node]\n",
        "  visited=set()\n",
        "  while stack:\n",
        "    current_node=stack.pop()\n",
        "    if current_node not in visited:\n",
        "      print(current_node,end=\" \")\n",
        "      visited.add(current_node)\n",
        "      for neighbour in graph[current_node]:\n",
        "        if neighbour not in visited:\n",
        "          stack.append(neighbour)\n",
        "print(\"DFS Traversal Order (Using Stack):\")\n",
        "dfs_using_stack(graph,'A')"
      ]
    },
    {
      "cell_type": "code",
      "source": [],
      "metadata": {
        "id": "vZNXQ2jzj4iX"
      },
      "execution_count": null,
      "outputs": []
    }
  ]
}